{
 "cells": [
  {
   "attachments": {},
   "cell_type": "markdown",
   "metadata": {},
   "source": [
    "# COGS 188 - Project Proposal"
   ]
  },
  {
   "attachments": {},
   "cell_type": "markdown",
   "metadata": {},
   "source": [
    "# Project Description\n",
    "\n",
    "You have the choice of doing either (1) an AI solve a problem style project or (2) run a Special Topics class on a topic of your choice.  This repo is assuming you want to do (1).  If you want to do (2) you should fill out the Gradescope proposal for that instead of using this repo.\n",
    "\n",
    "You will design and execute a machine learning project. There are a few constraints on the nature of the allowed project. \n",
    "- The problem addressed will not be a \"toy problem\" or \"common training students problem\" like 8-Queens or a small Traveling Salesman Problem or similar\n",
    "- If its the kind of problem (e.g., RL) that interacts with a simulator or live task, then the problem will have a reasonably complex action space. For instance, a wupus world kind of thing with a 9x9 grid is definitely too small.  A simulated mountain car with a less complex 2-d road and simplified dynamics seems like a fairly low achievement level.  A more complex 3-d mountain car simulation with large extent and realistic dynamics, sure sounds great!\n",
    "- If its the kind of problem that uses a dataset, then the dataset will have >1k observations and >5 variables. I'd prefer more like >10k observations and >10 variables. A general rule is that if you have >100x more observations than variables, your solution will likely generalize a lot better. The goal of training an unsupervised machine learning model is to learn the underlying pattern in a dataset in order to generalize well to unseen data, so choosing a large dataset is very important.\n",
    "- The project must include some elements we talked about in the course\n",
    "- The project will include a model selection and/or feature selection component where you will be looking for the best setup to maximize the performance of your ML system.\n",
    "- You will evaluate the performance of your ML system using more than one appropriate metric\n",
    "- You will be writing a report describing and discussing these accomplishments\n",
    "\n",
    "\n",
    "Feel free to delete this description section when you hand in your proposal."
   ]
  },
  {
   "cell_type": "markdown",
   "metadata": {},
   "source": [
    "# Names\n",
    "\n",
    "Hopefully your team is at least this good. Obviously you should replace these with your names.\n",
    "\n",
    "- Kavin Govinda Raj\n",
    "- Hyun Woo Choi\n",
    "- Micheal Daoud"
   ]
  },
  {
   "cell_type": "markdown",
   "metadata": {},
   "source": [
    "# Abstract \n",
    "\n",
    "Our goal is to make an effective AI that is able to solve the App game 2048. The goal is for the model to reach 2048 every time, but we also plan on seeing how far our model is able to go. We will be comparing different AI algorithms each other. We plan on collecting game data, we can make a score system/ highest number acheived to determine how well the different AIs are performing. We don't plan on having any data collection at the moment."
   ]
  },
  {
   "cell_type": "markdown",
   "metadata": {},
   "source": [
    "# Background\n",
    "The game 2048 is a 4x4 grid game that randomly generates the numbers 2 and 4 when ever a user does an action. There are four actions which includes swipping up, down, left, and right. When swimping in a direction all of the numbers in the grid would move in that direction until it hits the border or another number. You can combine these numbers during an action if they are the same and once combined it goes up by that multiple. EX. 2 and 2 become 4 and 4 and 4 becomes 16 and so on. To beat the game you must be able to combine these numbers within the 4x4 grid to get 2048 or above. If the entire grid is filled and there are no possible combines that can be done then the game is over. Our goal is to utilize various algorithms to report which one performs best at 2048. There are many 2048 AIs that already exist. An example found was a paper published from Stanford.<a name=\"nie\"></a>[<sup>[1]</sup>](#nienote) They utilized Minimax, Expectimax, and reinforcment learning. They noticed a higher success rate with Expectimax. We plan doing our own implementation of Expectimax. Our hope is to get similar or hopefully better results than this stanford paper. There is a pygame library that includes 2048.<a name=\"banerjee\"></a>[<sup>[2]</sup>](#banerjeenote). The plan is to add our implementation with this already provided game file. There is also a paper talking about utlizing the A* search algorithm on the 8-Puzzle game.<a name=\"sonawane\"></a>[<sup>[3]</sup>](#sonawanenote) This paper saw success with a search algorithm with a similar game. So the plan is to  use these three algorithms and compare them: Expectimax, A* Search, and Reinforcement Learning. We think this is a great start and we could add more algorithms like greedy for example if the time persists."
   ]
  },
  {
   "cell_type": "markdown",
   "metadata": {},
   "source": [
    "# Problem Statement\n",
    "\n",
    "Our problem is to be able to solve 2048 in the most efficent with the least amount of steps. For that the algorithm must be able to combine numbers and hit the goal of 2048 in an optimized way. We plan on using three algotihms for the time being: Expectimax, A* Search, and Reinforcement Learning."
   ]
  },
  {
   "cell_type": "markdown",
   "metadata": {},
   "source": [
    "# Data\n",
    "\n",
    "We don't plan on using any data for outside the game, but we plan on collecting data from the game which we will later compare. The data we are collecting would include number of actions, highest number achieved, and total score for all the alogorthims that we are implementing."
   ]
  },
  {
   "cell_type": "markdown",
   "metadata": {},
   "source": [
    "# Proposed Solution \n",
    "We are going use the algorithims implemented to find the most efficient way to get to 2048."
   ]
  },
  {
   "cell_type": "markdown",
   "metadata": {},
   "source": [
    "# Evaluation Metrics\n",
    "We plan on measuring multiple things. The main things being noted is if the algorithm is able to hit the goal, how many steps it used, and the total score. The scoring system already implemented it the game record the total value of all added squares while the step count records the number of steps to reach the goal. The lower the score when 2048 is reached the more effeciecint the algorthim as at using the boxes provided to get to 2048. While a lower step count might be used to show the relative speed of the process taking into consideration the score shows how smart the algorithim at using the space provided to make use of the grid rather then just priotizing speed. "
   ]
  },
  {
   "cell_type": "markdown",
   "metadata": {},
   "source": [
    "# Ethics & Privacy"
   ]
  },
  {
   "cell_type": "markdown",
   "metadata": {},
   "source": [
    "In addressing the ethical and privacy aspects of our AI agent project for the game 2048, we have ensured compliance with all relevant software licenses. The underlying game code from Pygame 2048 is covered under an MIT license, which we respect by retaining the license file in our project repository. Ethically, we focus on the transparency and originality of our work, especially concerning the implementation of algorithms such as A*, reinforcement learning, and the expectimax algorithm. To prevent plagiarism and ensure the integrity of our contributions, we meticulously document our sources and modifications, adhering to best practices in code attribution."
   ]
  },
  {
   "cell_type": "markdown",
   "metadata": {},
   "source": [
    "# Team Expectations "
   ]
  },
  {
   "cell_type": "markdown",
   "metadata": {},
   "source": [
    "* Communicate effectively via Discord\n",
    "    * Who is pushing/pulling from github (Version Control)\n",
    "    * Set meeting times/locations  \n",
    "* Show up to weekly meetings and notify members if you can’t make the meetings\n",
    "* Constructive feedback\n",
    "* Split tasks amongst each other and complete tasks in a timely manner"
   ]
  },
  {
   "cell_type": "markdown",
   "metadata": {},
   "source": [
    "# Project Timeline Proposal"
   ]
  },
  {
   "cell_type": "markdown",
   "metadata": {},
   "source": [
    "\n",
    "| Meeting Date  | Meeting Time| Completed Before Meeting  | Discuss at Meeting |\n",
    "|---|---|---|---|\n",
    "| 4/24  |  7 PM |  Brainstorm games, divide up tasks, briefly skim proposal | Finish project proposal, finalize on game idea and question|\n",
    "| 5/1  |  3 PM | Familiarize yourself with different algorithms| Discuss which algorithms to implement in the chosen game|\n",
    "| 5/8  | 3 PM  | Research on various arcade games and backgrounds of algorithms | Finish up the project proposal |\n",
    "| 5/15  | 3 PM  | Implement algorithms in the game |  Discuss any problems with algorithms and finalize on which algorithm to use |\n",
    "| 5/22  | 3 PM  | Get performance data on different algorithms | Discuss evaluation metrics |\n",
    "| 5/29  | 3 PM  | Complete evaluation metrics |Draft results/conclusion/discussion|\n",
    "| 6/5  | Before 11:59 PM  | Finish results/conclusion/discussion | Final group run-through;Turn in Final Project before deadline  |"
   ]
  },
  {
   "cell_type": "markdown",
   "metadata": {},
   "source": [
    "# Footnotes\n",
    "<a name=\"nienote\"></a>1.[^](#nie): Nie, Yunn. AI Plays 2048, cs229.stanford.edu/proj2016/report/NieHouAn-AIPlays2048-report.pdf. Accessed 8 May 2024.<br> \n",
    "<a name=\"banerjeenote\"></a>2.[^](#banerjee): Banerjee, Rajit. “Rajitbanerjee/2048-Pygame: A Pygame Implementation of the Popular Single-Player Puzzle Game, 2048.” GitHub, github.com/rajitbanerjee/2048-pygame. Accessed 8 May 2024. <br>\n",
    "<a name=\"sonawanenote\"></a>3.[^](#sonawane): Sonawane, Ajinkya. “Solving 8-Puzzle Using A* Algorithm.” Medium, Good Audience, 24 June 2020, blog.goodaudience.com/solving-8-puzzle-using-a-algorithm-7b509c331288.<br>\n"
   ]
  }
 ],
 "metadata": {
  "kernelspec": {
   "display_name": "Python 3 (ipykernel)",
   "language": "python",
   "name": "python3"
  },
  "language_info": {
   "codemirror_mode": {
    "name": "ipython",
    "version": 3
   },
   "file_extension": ".py",
   "mimetype": "text/x-python",
   "name": "python",
   "nbconvert_exporter": "python",
   "pygments_lexer": "ipython3",
   "version": "3.10.0"
  }
 },
 "nbformat": 4,
 "nbformat_minor": 2
}
